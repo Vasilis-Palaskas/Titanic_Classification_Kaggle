{
 "cells": [
  {
   "cell_type": "code",
   "execution_count": null,
   "metadata": {},
   "outputs": [],
   "source": [
    "\n",
    "# Below, we import libraries depending on each functionality/task we will implement in the next\n",
    "#---Data processing and some useful libraries\n",
    "import requests\n",
    "import os\n",
    "import warnings\n",
    "import pickle# save objects\n",
    "from sklearn.exceptions import DataConversionWarning\n",
    "warnings.filterwarnings(\"ignore\", category=DataConversionWarning)#e\n",
    "warnings.filterwarnings(\"ignore\", category=DeprecationWarning)#eliminate warnings for deprecation reasons\n",
    "import numpy as np \n",
    "import pandas as pd\n",
    "import re\n",
    "from time import time\n",
    "import pprint\n",
    "import joblib\n",
    "from functools import partial\n",
    "import tkinter as tk\n",
    "from  tkinter  import filedialog# library for choosing manually working directory\n",
    "from sklearn.impute import  KNNImputer, SimpleImputer\n",
    "#---Visualisation\n",
    "import matplotlib.pyplot as plt\n",
    "import seaborn as sn \n",
    "\n",
    "#---Machine-Deep learning Algorithms \n",
    "import sklearn\n",
    "from sklearn.preprocessing import LabelBinarizer, OneHotEncoder,OrdinalEncoder,StandardScaler, Normalizer, normalize,MinMaxScaler\n",
    "from sklearn.compose import ColumnTransformer\n",
    "from sklearn.ensemble import RandomForestClassifier\n",
    "from xgboost import XGBClassifier\n",
    "\n",
    "\n",
    "import tensorflow as tf #pip install tensorflow\n",
    "from tensorflow import keras\n",
    "from tensorflow.keras.layers import Dense\n",
    "from tensorflow.keras.layers import Dropout\n",
    "from tensorflow.keras.models import Sequential\n",
    "from scikeras.wrappers import KerasClassifier\n",
    "\n",
    "#--- Cross Validation-Model Selection scores-Pipelines Implementation-Hyperparameters Search\n",
    "from sklearn.model_selection import cross_val_predict,cross_val_score, StratifiedKFold,GridSearchCV\n",
    "from sklearn.metrics import roc_auc_score, confusion_matrix, accuracy_score, f1_score, precision_score, recall_score\n",
    "from BorutaShap import BorutaShap, load_data\n",
    "from sklearn import metrics  #Additional scklearn functions\n",
    "from xgboost import cv\n",
    "\n",
    "from sklearn.pipeline import Pipeline\n",
    "from sklearn.pipeline import make_pipeline\n",
    "\n",
    "import optuna## Optuna  Search method\n",
    "from skopt import BayesSearchCV\n",
    "from skopt.callbacks import DeadlineStopper, DeltaYStopper\n",
    "from skopt.space import Real, Categorical, Integer\n",
    "\n",
    "\n",
    "#-- -*- coding: utf-8 -*-\n",
    "import click\n",
    "import logging\n",
    "from pathlib import Path\n",
    "from dotenv import find_dotenv, load_dotenv\n"
   ]
  },
  {
   "cell_type": "code",
   "execution_count": 2,
   "metadata": {},
   "outputs": [],
   "source": [
    "# Below, we import libraries depending on each functionality/task we will implement in the next\n",
    "#---Data processing and some useful libraries\n",
    "import requests\n",
    "import os\n",
    "import warnings\n",
    "import pickle# save objects\n",
    "from sklearn.exceptions import DataConversionWarning\n",
    "warnings.filterwarnings(\"ignore\", category=DataConversionWarning)#e\n",
    "warnings.filterwarnings(\"ignore\", category=DeprecationWarning)#eliminate warnings for deprecation reasons\n",
    "import numpy as np \n",
    "import pandas as pd\n",
    "import re\n",
    "from time import time\n",
    "import pprint\n",
    "import joblib\n",
    "from functools import partial\n",
    "import tkinter as tk\n",
    "from  tkinter  import filedialog# library for choosing manually working directory\n",
    "from sklearn.impute import  KNNImputer, SimpleImputer\n",
    "#---Visualisation\n",
    "import matplotlib.pyplot as plt\n",
    "import seaborn as sn "
   ]
  },
  {
   "cell_type": "code",
   "execution_count": 3,
   "metadata": {},
   "outputs": [
    {
     "data": {
      "text/plain": [
       "'Now its time to load the data of this project\\n'"
      ]
     },
     "execution_count": 3,
     "metadata": {},
     "output_type": "execute_result"
    }
   ],
   "source": [
    "    \"\"\"Now its time to load the data of this project\n",
    "    \"\"\""
   ]
  }
 ],
 "metadata": {
  "kernelspec": {
   "display_name": "Python 3",
   "language": "python",
   "name": "python3"
  },
  "language_info": {
   "codemirror_mode": {
    "name": "ipython",
    "version": 3
   },
   "file_extension": ".py",
   "mimetype": "text/x-python",
   "name": "python",
   "nbconvert_exporter": "python",
   "pygments_lexer": "ipython3",
   "version": "3.10.9"
  },
  "orig_nbformat": 4
 },
 "nbformat": 4,
 "nbformat_minor": 2
}
